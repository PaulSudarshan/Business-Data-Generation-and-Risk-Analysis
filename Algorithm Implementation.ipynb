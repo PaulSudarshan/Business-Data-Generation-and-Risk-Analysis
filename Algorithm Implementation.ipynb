{
 "cells": [
  {
   "cell_type": "markdown",
   "metadata": {},
   "source": [
    "# Project Success/Failure Prediction\n",
    "\n",
    "We have implemented using two different methods:\n",
    "### Method 1:\n",
    "- Some best performing modern machine learning algorithms were chosen to predict the outcome (Success/Failure) like MLP-ANN , KNN, SVM, GLMs etc.\n",
    "- In order to prevent overfitting we decided to apply these different predictive supervised algorithms and ensemble them afterwards. "
   ]
  },
  {
   "cell_type": "code",
   "execution_count": 232,
   "metadata": {
    "id": "BfQtLcdRQElM"
   },
   "outputs": [],
   "source": [
    "# Importing required libraries\n",
    "import pandas as pd\n",
    "import numpy as np\n",
    "import warnings\n",
    "warnings.filterwarnings('ignore')"
   ]
  },
  {
   "cell_type": "code",
   "execution_count": 233,
   "metadata": {
    "scrolled": true
   },
   "outputs": [
    {
     "data": {
      "text/html": [
       "<div>\n",
       "<style scoped>\n",
       "    .dataframe tbody tr th:only-of-type {\n",
       "        vertical-align: middle;\n",
       "    }\n",
       "\n",
       "    .dataframe tbody tr th {\n",
       "        vertical-align: top;\n",
       "    }\n",
       "\n",
       "    .dataframe thead th {\n",
       "        text-align: right;\n",
       "    }\n",
       "</style>\n",
       "<table border=\"1\" class=\"dataframe\">\n",
       "  <thead>\n",
       "    <tr style=\"text-align: right;\">\n",
       "      <th></th>\n",
       "      <th>Stage</th>\n",
       "      <th>Name</th>\n",
       "      <th>Client_Revenue</th>\n",
       "      <th>Region</th>\n",
       "      <th>Client_Domain</th>\n",
       "      <th>Existing_Customer</th>\n",
       "      <th>TCS_Revenue</th>\n",
       "      <th>TCS_Domain</th>\n",
       "      <th>TimeStamp</th>\n",
       "      <th>ID</th>\n",
       "    </tr>\n",
       "  </thead>\n",
       "  <tbody>\n",
       "    <tr>\n",
       "      <th>0</th>\n",
       "      <td>Stage 1</td>\n",
       "      <td>A Plus Lawn Care</td>\n",
       "      <td>251114.773898</td>\n",
       "      <td>north america</td>\n",
       "      <td>Healthcare</td>\n",
       "      <td>1</td>\n",
       "      <td>4487.269736</td>\n",
       "      <td>Cloud Infrastructure</td>\n",
       "      <td>2020-05-25 20:17:37.325647</td>\n",
       "      <td>0</td>\n",
       "    </tr>\n",
       "    <tr>\n",
       "      <th>1</th>\n",
       "      <td>Stage 9</td>\n",
       "      <td>A Plus Lawn Care</td>\n",
       "      <td>251114.773898</td>\n",
       "      <td>north america</td>\n",
       "      <td>Healthcare</td>\n",
       "      <td>1</td>\n",
       "      <td>4487.269736</td>\n",
       "      <td>Cloud Infrastructure</td>\n",
       "      <td>2020-06-30 20:17:37.325647</td>\n",
       "      <td>0</td>\n",
       "    </tr>\n",
       "    <tr>\n",
       "      <th>2</th>\n",
       "      <td>Stage 1</td>\n",
       "      <td>A+ Electronics</td>\n",
       "      <td>191404.595489</td>\n",
       "      <td>north america</td>\n",
       "      <td>BFSI</td>\n",
       "      <td>1</td>\n",
       "      <td>3746.000000</td>\n",
       "      <td>IT infrastructure services</td>\n",
       "      <td>2021-04-25 20:17:37.325647</td>\n",
       "      <td>1</td>\n",
       "    </tr>\n",
       "    <tr>\n",
       "      <th>3</th>\n",
       "      <td>Stage 9</td>\n",
       "      <td>A+ Electronics</td>\n",
       "      <td>191404.595489</td>\n",
       "      <td>north america</td>\n",
       "      <td>BFSI</td>\n",
       "      <td>1</td>\n",
       "      <td>3746.000000</td>\n",
       "      <td>IT infrastructure services</td>\n",
       "      <td>2021-04-29 20:17:37.325647</td>\n",
       "      <td>1</td>\n",
       "    </tr>\n",
       "    <tr>\n",
       "      <th>4</th>\n",
       "      <td>Stage 1</td>\n",
       "      <td>A+ Investments</td>\n",
       "      <td>246067.167131</td>\n",
       "      <td>north america</td>\n",
       "      <td>Telecom</td>\n",
       "      <td>1</td>\n",
       "      <td>10990.809563</td>\n",
       "      <td>Assurance services</td>\n",
       "      <td>2020-11-25 20:17:37.325647</td>\n",
       "      <td>2</td>\n",
       "    </tr>\n",
       "    <tr>\n",
       "      <th>5</th>\n",
       "      <td>Stage 9</td>\n",
       "      <td>A+ Investments</td>\n",
       "      <td>246067.167131</td>\n",
       "      <td>north america</td>\n",
       "      <td>Telecom</td>\n",
       "      <td>1</td>\n",
       "      <td>10990.809563</td>\n",
       "      <td>Assurance services</td>\n",
       "      <td>2021-05-16 20:17:37.325647</td>\n",
       "      <td>2</td>\n",
       "    </tr>\n",
       "    <tr>\n",
       "      <th>6</th>\n",
       "      <td>Stage 1</td>\n",
       "      <td>A21</td>\n",
       "      <td>147023.000000</td>\n",
       "      <td>north america</td>\n",
       "      <td>BFSI</td>\n",
       "      <td>1</td>\n",
       "      <td>27419.506339</td>\n",
       "      <td>Engineering and Industrial services</td>\n",
       "      <td>2020-12-13 20:17:37.325647</td>\n",
       "      <td>3</td>\n",
       "    </tr>\n",
       "    <tr>\n",
       "      <th>7</th>\n",
       "      <td>Stage 9</td>\n",
       "      <td>A21</td>\n",
       "      <td>147023.000000</td>\n",
       "      <td>north america</td>\n",
       "      <td>BFSI</td>\n",
       "      <td>1</td>\n",
       "      <td>27419.506339</td>\n",
       "      <td>Engineering and Industrial services</td>\n",
       "      <td>2021-05-25 20:17:37.325647</td>\n",
       "      <td>3</td>\n",
       "    </tr>\n",
       "    <tr>\n",
       "      <th>8</th>\n",
       "      <td>Stage 1</td>\n",
       "      <td>Aaron'S, Inc.</td>\n",
       "      <td>105127.041768</td>\n",
       "      <td>north america</td>\n",
       "      <td>BFSI</td>\n",
       "      <td>1</td>\n",
       "      <td>19264.481590</td>\n",
       "      <td>IT infrastructure services</td>\n",
       "      <td>2020-11-22 20:17:37.325647</td>\n",
       "      <td>4</td>\n",
       "    </tr>\n",
       "    <tr>\n",
       "      <th>9</th>\n",
       "      <td>Stage 2</td>\n",
       "      <td>Aaron'S, Inc.</td>\n",
       "      <td>105127.041768</td>\n",
       "      <td>north america</td>\n",
       "      <td>BFSI</td>\n",
       "      <td>1</td>\n",
       "      <td>19264.481590</td>\n",
       "      <td>IT infrastructure services</td>\n",
       "      <td>2020-11-26 20:17:37.325647</td>\n",
       "      <td>4</td>\n",
       "    </tr>\n",
       "    <tr>\n",
       "      <th>10</th>\n",
       "      <td>Stage 3</td>\n",
       "      <td>Aaron'S, Inc.</td>\n",
       "      <td>105127.041768</td>\n",
       "      <td>north america</td>\n",
       "      <td>BFSI</td>\n",
       "      <td>1</td>\n",
       "      <td>19264.481590</td>\n",
       "      <td>IT infrastructure services</td>\n",
       "      <td>2021-03-08 20:17:37.325647</td>\n",
       "      <td>4</td>\n",
       "    </tr>\n",
       "    <tr>\n",
       "      <th>11</th>\n",
       "      <td>Stage 4</td>\n",
       "      <td>Aaron'S, Inc.</td>\n",
       "      <td>105127.041768</td>\n",
       "      <td>north america</td>\n",
       "      <td>BFSI</td>\n",
       "      <td>1</td>\n",
       "      <td>19264.481590</td>\n",
       "      <td>IT infrastructure services</td>\n",
       "      <td>2021-06-11 20:17:37.325647</td>\n",
       "      <td>4</td>\n",
       "    </tr>\n",
       "  </tbody>\n",
       "</table>\n",
       "</div>"
      ],
      "text/plain": [
       "      Stage              Name  Client_Revenue         Region Client_Domain  \\\n",
       "0   Stage 1  A Plus Lawn Care   251114.773898  north america    Healthcare   \n",
       "1   Stage 9  A Plus Lawn Care   251114.773898  north america    Healthcare   \n",
       "2   Stage 1    A+ Electronics   191404.595489  north america          BFSI   \n",
       "3   Stage 9    A+ Electronics   191404.595489  north america          BFSI   \n",
       "4   Stage 1    A+ Investments   246067.167131  north america       Telecom   \n",
       "5   Stage 9    A+ Investments   246067.167131  north america       Telecom   \n",
       "6   Stage 1               A21   147023.000000  north america          BFSI   \n",
       "7   Stage 9               A21   147023.000000  north america          BFSI   \n",
       "8   Stage 1     Aaron'S, Inc.   105127.041768  north america          BFSI   \n",
       "9   Stage 2     Aaron'S, Inc.   105127.041768  north america          BFSI   \n",
       "10  Stage 3     Aaron'S, Inc.   105127.041768  north america          BFSI   \n",
       "11  Stage 4     Aaron'S, Inc.   105127.041768  north america          BFSI   \n",
       "\n",
       "    Existing_Customer   TCS_Revenue                           TCS_Domain  \\\n",
       "0                   1   4487.269736                 Cloud Infrastructure   \n",
       "1                   1   4487.269736                 Cloud Infrastructure   \n",
       "2                   1   3746.000000           IT infrastructure services   \n",
       "3                   1   3746.000000           IT infrastructure services   \n",
       "4                   1  10990.809563                   Assurance services   \n",
       "5                   1  10990.809563                   Assurance services   \n",
       "6                   1  27419.506339  Engineering and Industrial services   \n",
       "7                   1  27419.506339  Engineering and Industrial services   \n",
       "8                   1  19264.481590           IT infrastructure services   \n",
       "9                   1  19264.481590           IT infrastructure services   \n",
       "10                  1  19264.481590           IT infrastructure services   \n",
       "11                  1  19264.481590           IT infrastructure services   \n",
       "\n",
       "                     TimeStamp  ID  \n",
       "0   2020-05-25 20:17:37.325647   0  \n",
       "1   2020-06-30 20:17:37.325647   0  \n",
       "2   2021-04-25 20:17:37.325647   1  \n",
       "3   2021-04-29 20:17:37.325647   1  \n",
       "4   2020-11-25 20:17:37.325647   2  \n",
       "5   2021-05-16 20:17:37.325647   2  \n",
       "6   2020-12-13 20:17:37.325647   3  \n",
       "7   2021-05-25 20:17:37.325647   3  \n",
       "8   2020-11-22 20:17:37.325647   4  \n",
       "9   2020-11-26 20:17:37.325647   4  \n",
       "10  2021-03-08 20:17:37.325647   4  \n",
       "11  2021-06-11 20:17:37.325647   4  "
      ]
     },
     "execution_count": 233,
     "metadata": {},
     "output_type": "execute_result"
    }
   ],
   "source": [
    "# Reading our dataset\n",
    "df = pd.read_csv('Original_Exp.csv')\n",
    "df.head(12)"
   ]
  },
  {
   "cell_type": "markdown",
   "metadata": {},
   "source": [
    "- Creating new column called `Status`"
   ]
  },
  {
   "cell_type": "code",
   "execution_count": 234,
   "metadata": {
    "colab": {
     "base_uri": "https://localhost:8080/"
    },
    "id": "79FdbQOhscBg",
    "outputId": "974d0909-09af-4afb-9e76-c201ba841bfb"
   },
   "outputs": [],
   "source": [
    "# Creating new column called Status (1: Success, 0: Fail)\n",
    "arr = df.Name.unique()\n",
    "my_df  = pd.DataFrame()\n",
    "for x in arr:\n",
    "  new_df = df[df.Name == x]\n",
    "  ok = 0\n",
    "  if (str(df[df.Name == x].to_numpy()[-1][0]) == 'Stage 9'):\n",
    "    ok = 1\n",
    "  if (ok == 1):\n",
    "    new_df = new_df.assign(Status=1)\n",
    "  else:\n",
    "    new_df = new_df.assign(Status=0)\n",
    "  my_df = my_df.append(new_df)\n",
    "\n",
    "df = my_df.copy()"
   ]
  },
  {
   "cell_type": "markdown",
   "metadata": {},
   "source": [
    "- Creating new column called `Recency`"
   ]
  },
  {
   "cell_type": "code",
   "execution_count": 235,
   "metadata": {},
   "outputs": [],
   "source": [
    "# Converting TimeStamp parameter to date-time format\n",
    "df['TimeStamp'] = pd.to_datetime(df['TimeStamp'],format='%Y-%m-%d %H:%M')\n",
    "uniq_ID = df.ID.unique()\n",
    "final_df=[]\n",
    "for i in uniq_ID:\n",
    "    new_df = df[df.ID == i]\n",
    "    \n",
    "    new_df = pd.DataFrame((new_df['TimeStamp'].max() - new_df['TimeStamp']).dt.days)\n",
    "    final_df.extend(new_df.values)\n",
    "    \n",
    "\n",
    "final_df=[i[0] for i in final_df]\n",
    "df['Recency'] = final_df"
   ]
  },
  {
   "cell_type": "markdown",
   "metadata": {},
   "source": [
    "- Creating new column called `Frequency`"
   ]
  },
  {
   "cell_type": "code",
   "execution_count": 236,
   "metadata": {
    "scrolled": true
   },
   "outputs": [],
   "source": [
    "# Get order counts for each user and create a dataframe with it\n",
    "uniq_ID = df.ID.unique()\n",
    "final_df=pd.DataFrame()\n",
    "df_frequency = df.groupby('ID').TimeStamp.count().reset_index()\n",
    "df_frequency.columns = ['ID','Frequency']\n",
    "\n",
    "# add this data to our main dataframe\n",
    "# df = pd.merge(df, df_frequency, on='ID')\n",
    "for i in uniq_ID:\n",
    "    new_df = df[df.ID == i]\n",
    "    new_df = new_df.assign(Frequency=df_frequency.iloc[i][1])\n",
    "    final_df = final_df.append(new_df)\n",
    "    \n",
    "final_df\n",
    "df = final_df.copy() "
   ]
  },
  {
   "cell_type": "markdown",
   "metadata": {},
   "source": [
    "- One Hot encoding for categorical variables (`Region`, `TCS_Domain`, `Client Domain`)\n"
   ]
  },
  {
   "cell_type": "code",
   "execution_count": 237,
   "metadata": {
    "id": "y_xcibTHptXQ"
   },
   "outputs": [],
   "source": [
    "one_hot = pd.get_dummies(df['Region'])\n",
    "df = df.drop('Region',axis = 1)\n",
    "df = df.join(one_hot)\n",
    "one_hot = pd.get_dummies(df['TCS_Domain'])\n",
    "df = df.drop('TCS_Domain',axis = 1)\n",
    "df = df.join(one_hot)\n",
    "one_hot = pd.get_dummies(df['Client_Domain'])\n",
    "df = df.drop(['Client_Domain','TimeStamp'],axis = 1)\n",
    "df = df.join(one_hot)"
   ]
  },
  {
   "cell_type": "markdown",
   "metadata": {},
   "source": [
    "- Extracting Stage Number from string `Stage`"
   ]
  },
  {
   "cell_type": "code",
   "execution_count": 238,
   "metadata": {
    "id": "dZM5uF2Oql2Z"
   },
   "outputs": [],
   "source": [
    "Y = df['Status'].copy()\n",
    "X = pd.DataFrame()\n",
    "X = df.copy()\n",
    "X = X.reset_index(drop=True)\n",
    "X.drop(['Status','Name'], axis=1, inplace=True)\n",
    "X = X.reset_index(drop=True)\n",
    "X['Stage'] = X['Stage'].str.extract('(\\d+)')\n",
    "X['Stage'] = X['Stage'].astype(str).astype(int)\n",
    "Y = pd.DataFrame(Y)"
   ]
  },
  {
   "cell_type": "markdown",
   "metadata": {},
   "source": [
    "- Sneak peek of our current dataset"
   ]
  },
  {
   "cell_type": "code",
   "execution_count": 239,
   "metadata": {},
   "outputs": [
    {
     "data": {
      "text/html": [
       "<div>\n",
       "<style scoped>\n",
       "    .dataframe tbody tr th:only-of-type {\n",
       "        vertical-align: middle;\n",
       "    }\n",
       "\n",
       "    .dataframe tbody tr th {\n",
       "        vertical-align: top;\n",
       "    }\n",
       "\n",
       "    .dataframe thead th {\n",
       "        text-align: right;\n",
       "    }\n",
       "</style>\n",
       "<table border=\"1\" class=\"dataframe\">\n",
       "  <thead>\n",
       "    <tr style=\"text-align: right;\">\n",
       "      <th></th>\n",
       "      <th>Stage</th>\n",
       "      <th>Name</th>\n",
       "      <th>Client_Revenue</th>\n",
       "      <th>Existing_Customer</th>\n",
       "      <th>TCS_Revenue</th>\n",
       "      <th>ID</th>\n",
       "      <th>Status</th>\n",
       "      <th>Recency</th>\n",
       "      <th>Frequency</th>\n",
       "      <th>UK</th>\n",
       "      <th>...</th>\n",
       "      <th>BFSI</th>\n",
       "      <th>Energy &amp; Utilities</th>\n",
       "      <th>Healthcare</th>\n",
       "      <th>Hi-Tech</th>\n",
       "      <th>Manufacturing</th>\n",
       "      <th>Media</th>\n",
       "      <th>Others</th>\n",
       "      <th>Retail &amp; Distribution</th>\n",
       "      <th>Telecom</th>\n",
       "      <th>Travel and Hospitality</th>\n",
       "    </tr>\n",
       "  </thead>\n",
       "  <tbody>\n",
       "    <tr>\n",
       "      <th>0</th>\n",
       "      <td>Stage 1</td>\n",
       "      <td>A Plus Lawn Care</td>\n",
       "      <td>251114.773898</td>\n",
       "      <td>1</td>\n",
       "      <td>4487.269736</td>\n",
       "      <td>0</td>\n",
       "      <td>1</td>\n",
       "      <td>36</td>\n",
       "      <td>2</td>\n",
       "      <td>0</td>\n",
       "      <td>...</td>\n",
       "      <td>0</td>\n",
       "      <td>0</td>\n",
       "      <td>1</td>\n",
       "      <td>0</td>\n",
       "      <td>0</td>\n",
       "      <td>0</td>\n",
       "      <td>0</td>\n",
       "      <td>0</td>\n",
       "      <td>0</td>\n",
       "      <td>0</td>\n",
       "    </tr>\n",
       "    <tr>\n",
       "      <th>1</th>\n",
       "      <td>Stage 9</td>\n",
       "      <td>A Plus Lawn Care</td>\n",
       "      <td>251114.773898</td>\n",
       "      <td>1</td>\n",
       "      <td>4487.269736</td>\n",
       "      <td>0</td>\n",
       "      <td>1</td>\n",
       "      <td>0</td>\n",
       "      <td>2</td>\n",
       "      <td>0</td>\n",
       "      <td>...</td>\n",
       "      <td>0</td>\n",
       "      <td>0</td>\n",
       "      <td>1</td>\n",
       "      <td>0</td>\n",
       "      <td>0</td>\n",
       "      <td>0</td>\n",
       "      <td>0</td>\n",
       "      <td>0</td>\n",
       "      <td>0</td>\n",
       "      <td>0</td>\n",
       "    </tr>\n",
       "    <tr>\n",
       "      <th>2</th>\n",
       "      <td>Stage 1</td>\n",
       "      <td>A+ Electronics</td>\n",
       "      <td>191404.595489</td>\n",
       "      <td>1</td>\n",
       "      <td>3746.000000</td>\n",
       "      <td>1</td>\n",
       "      <td>1</td>\n",
       "      <td>4</td>\n",
       "      <td>2</td>\n",
       "      <td>0</td>\n",
       "      <td>...</td>\n",
       "      <td>1</td>\n",
       "      <td>0</td>\n",
       "      <td>0</td>\n",
       "      <td>0</td>\n",
       "      <td>0</td>\n",
       "      <td>0</td>\n",
       "      <td>0</td>\n",
       "      <td>0</td>\n",
       "      <td>0</td>\n",
       "      <td>0</td>\n",
       "    </tr>\n",
       "    <tr>\n",
       "      <th>3</th>\n",
       "      <td>Stage 9</td>\n",
       "      <td>A+ Electronics</td>\n",
       "      <td>191404.595489</td>\n",
       "      <td>1</td>\n",
       "      <td>3746.000000</td>\n",
       "      <td>1</td>\n",
       "      <td>1</td>\n",
       "      <td>0</td>\n",
       "      <td>2</td>\n",
       "      <td>0</td>\n",
       "      <td>...</td>\n",
       "      <td>1</td>\n",
       "      <td>0</td>\n",
       "      <td>0</td>\n",
       "      <td>0</td>\n",
       "      <td>0</td>\n",
       "      <td>0</td>\n",
       "      <td>0</td>\n",
       "      <td>0</td>\n",
       "      <td>0</td>\n",
       "      <td>0</td>\n",
       "    </tr>\n",
       "    <tr>\n",
       "      <th>4</th>\n",
       "      <td>Stage 1</td>\n",
       "      <td>A+ Investments</td>\n",
       "      <td>246067.167131</td>\n",
       "      <td>1</td>\n",
       "      <td>10990.809563</td>\n",
       "      <td>2</td>\n",
       "      <td>1</td>\n",
       "      <td>172</td>\n",
       "      <td>2</td>\n",
       "      <td>0</td>\n",
       "      <td>...</td>\n",
       "      <td>0</td>\n",
       "      <td>0</td>\n",
       "      <td>0</td>\n",
       "      <td>0</td>\n",
       "      <td>0</td>\n",
       "      <td>0</td>\n",
       "      <td>0</td>\n",
       "      <td>0</td>\n",
       "      <td>1</td>\n",
       "      <td>0</td>\n",
       "    </tr>\n",
       "  </tbody>\n",
       "</table>\n",
       "<p>5 rows × 38 columns</p>\n",
       "</div>"
      ],
      "text/plain": [
       "     Stage              Name  Client_Revenue  Existing_Customer   TCS_Revenue  \\\n",
       "0  Stage 1  A Plus Lawn Care   251114.773898                  1   4487.269736   \n",
       "1  Stage 9  A Plus Lawn Care   251114.773898                  1   4487.269736   \n",
       "2  Stage 1    A+ Electronics   191404.595489                  1   3746.000000   \n",
       "3  Stage 9    A+ Electronics   191404.595489                  1   3746.000000   \n",
       "4  Stage 1    A+ Investments   246067.167131                  1  10990.809563   \n",
       "\n",
       "   ID  Status  Recency  Frequency  UK  ...  BFSI  Energy & Utilities  \\\n",
       "0   0       1       36          2   0  ...     0                   0   \n",
       "1   0       1        0          2   0  ...     0                   0   \n",
       "2   1       1        4          2   0  ...     1                   0   \n",
       "3   1       1        0          2   0  ...     1                   0   \n",
       "4   2       1      172          2   0  ...     0                   0   \n",
       "\n",
       "   Healthcare  Hi-Tech  Manufacturing  Media  Others  Retail & Distribution  \\\n",
       "0           1        0              0      0       0                      0   \n",
       "1           1        0              0      0       0                      0   \n",
       "2           0        0              0      0       0                      0   \n",
       "3           0        0              0      0       0                      0   \n",
       "4           0        0              0      0       0                      0   \n",
       "\n",
       "   Telecom  Travel and Hospitality  \n",
       "0        0                       0  \n",
       "1        0                       0  \n",
       "2        0                       0  \n",
       "3        0                       0  \n",
       "4        1                       0  \n",
       "\n",
       "[5 rows x 38 columns]"
      ]
     },
     "execution_count": 239,
     "metadata": {},
     "output_type": "execute_result"
    }
   ],
   "source": [
    "df.head(5)"
   ]
  },
  {
   "cell_type": "markdown",
   "metadata": {},
   "source": [
    "- Splitting the dataset into train and test sets (split ratio = 75:25)"
   ]
  },
  {
   "cell_type": "code",
   "execution_count": 240,
   "metadata": {
    "id": "s8KRkFWeuMNf"
   },
   "outputs": [],
   "source": [
    "from sklearn.model_selection import train_test_split\n",
    "X_train, X_test, y_train, y_test = train_test_split(X, Y, test_size = 0.25,random_state=1)"
   ]
  },
  {
   "cell_type": "markdown",
   "metadata": {},
   "source": [
    " - Training and predicting with **SVM Classifier** (kernel = RBF)"
   ]
  },
  {
   "cell_type": "code",
   "execution_count": 241,
   "metadata": {
    "colab": {
     "base_uri": "https://localhost:8080/"
    },
    "id": "oZHLbNCHvqKe",
    "outputId": "36ef151d-b49d-4ab4-bc59-7063d8ae8ebe"
   },
   "outputs": [
    {
     "name": "stdout",
     "output_type": "stream",
     "text": [
      "Accuracy: 0.5172839506172839\n",
      "F1 score: 0.5169049111375982\n",
      "Recall: 0.5172839506172839\n",
      "Precision: 0.5528089887640449\n"
     ]
    }
   ],
   "source": [
    "from sklearn.svm import SVC\n",
    "from sklearn.metrics import accuracy_score, f1_score, precision_score, recall_score, classification_report, confusion_matrix\n",
    "\n",
    "svclassifier = SVC(kernel='sigmoid')\n",
    "svclassifier.fit(X_train, y_train)\n",
    "pred1 = svclassifier.predict(X_test)\n",
    "\n",
    "def print_metrics(x,y):\n",
    "    print('Accuracy:', accuracy_score(x, y))\n",
    "    print('F1 score:', f1_score(x, y, average='weighted'))\n",
    "    print('Recall:', recall_score(x, y, average='weighted'))\n",
    "    print('Precision:', precision_score(x, y))\n",
    "\n",
    "print_metrics(pred1, y_test)"
   ]
  },
  {
   "cell_type": "markdown",
   "metadata": {
    "id": "jwhUFqGlwB7E"
   },
   "source": [
    "- Training and predicting with **XGBoost** (hidden layers = 8, activation function = 'tanh')"
   ]
  },
  {
   "cell_type": "code",
   "execution_count": 242,
   "metadata": {
    "id": "p4bf6L6xlYMV"
   },
   "outputs": [
    {
     "name": "stdout",
     "output_type": "stream",
     "text": [
      "[20:52:29] WARNING: C:/Users/Administrator/workspace/xgboost-win64_release_1.4.0/src/learner.cc:1095: Starting in XGBoost 1.3.0, the default evaluation metric used with the objective 'binary:logistic' was changed from 'error' to 'logloss'. Explicitly set eval_metric if you'd like to restore the old behavior.\n",
      "Accuracy: 0.7345679012345679\n",
      "F1 score: 0.7361993029486826\n",
      "Recall: 0.7345679012345679\n",
      "Precision: 0.6292134831460674\n"
     ]
    }
   ],
   "source": [
    "import xgboost as xgb\n",
    "\n",
    "overall_xgb_model = xgb.XGBClassifier(max_depth=1, learning_rate=0.001,objective= 'binary:logistic',n_jobs=-1).fit(X_train, y_train)\n",
    "pred2 = overall_xgb_model.predict(X_test)\n",
    "print_metrics(pred2,y_test)"
   ]
  },
  {
   "cell_type": "markdown",
   "metadata": {},
   "source": [
    "- Training and predicting with **Generalized Linear Model**"
   ]
  },
  {
   "cell_type": "code",
   "execution_count": 243,
   "metadata": {
    "id": "6nP4tc3h1khf"
   },
   "outputs": [
    {
     "name": "stdout",
     "output_type": "stream",
     "text": [
      "Optimization terminated successfully.\n",
      "         Current function value: 0.589074\n",
      "         Iterations 6\n",
      "Accuracy: 0.671604938271605\n",
      "F1 score: 0.6765899643825574\n",
      "Recall: 0.671604938271605\n",
      "Precision: 0.7752808988764045\n"
     ]
    }
   ],
   "source": [
    "import statsmodels.api as sm\n",
    "\n",
    "log_reg = sm.Logit(y_train,X_train).fit()\n",
    "_pred = log_reg.predict(X_test)\n",
    "pred3 = list(map(round, _pred))\n",
    "print_metrics(pred3, y_test)"
   ]
  },
  {
   "cell_type": "markdown",
   "metadata": {
    "id": "zcxM3bpVndoy"
   },
   "source": [
    "- Training and predicting with **Gradient Boosting Classifier**"
   ]
  },
  {
   "cell_type": "code",
   "execution_count": 244,
   "metadata": {},
   "outputs": [
    {
     "name": "stdout",
     "output_type": "stream",
     "text": [
      "Accuracy: 0.7345679012345679\n",
      "F1 score: 0.7361993029486826\n",
      "Recall: 0.7345679012345679\n",
      "Precision: 0.6292134831460674\n"
     ]
    }
   ],
   "source": [
    "from sklearn.ensemble import GradientBoostingClassifier\n",
    "\n",
    "clf = GradientBoostingClassifier(n_estimators=10, learning_rate=0.1,max_depth=1, random_state=0).fit(X_train, y_train)\n",
    "pred4 = clf.predict(X_test)\n",
    "print_metrics(pred4, y_test)"
   ]
  },
  {
   "cell_type": "markdown",
   "metadata": {},
   "source": [
    "- Training and predicting with **KNeighborsClassifier**"
   ]
  },
  {
   "cell_type": "code",
   "execution_count": 245,
   "metadata": {},
   "outputs": [
    {
     "name": "stdout",
     "output_type": "stream",
     "text": [
      "Accuracy: 0.7654320987654321\n",
      "F1 score: 0.7648950843395287\n",
      "Recall: 0.7654320987654321\n",
      "Precision: 0.7303370786516854\n"
     ]
    }
   ],
   "source": [
    "from sklearn.neighbors import KNeighborsClassifier\n",
    "\n",
    "neigh = KNeighborsClassifier(n_neighbors=3)\n",
    "neigh.fit(X_train, y_train)\n",
    "pred5 = neigh.predict(X_test)\n",
    "print_metrics(pred5, y_test)"
   ]
  },
  {
   "cell_type": "markdown",
   "metadata": {},
   "source": [
    "- Taking mode of all the outputs for Ensembling"
   ]
  },
  {
   "cell_type": "code",
   "execution_count": 246,
   "metadata": {},
   "outputs": [
    {
     "name": "stdout",
     "output_type": "stream",
     "text": [
      "Accuracy: 0.7654320987654321\n",
      "F1 score: 0.7651817976513099\n",
      "Recall: 0.7654320987654321\n",
      "Precision: 0.7078651685393258\n"
     ]
    }
   ],
   "source": [
    "res = []\n",
    "for i in range(0,len(pred1)):\n",
    "  if (pred1[i] + pred2[i] + pred3[i] + pred4[i] + pred5[i] >= 3):\n",
    "    res.append(1)\n",
    "  else:\n",
    "    res.append(0)\n",
    "\n",
    "res = pd.DataFrame(res)\n",
    "print_metrics(res, y_test)"
   ]
  },
  {
   "cell_type": "markdown",
   "metadata": {},
   "source": [
    "- Creating new column called `NextStage`"
   ]
  },
  {
   "cell_type": "code",
   "execution_count": 247,
   "metadata": {},
   "outputs": [],
   "source": [
    "df = final_df.copy()\n",
    "my_df  = pd.DataFrame()\n",
    "arr = df.Name.unique()\n",
    "for x in arr:\n",
    "    new_df = df[df.Name == x]\n",
    "    new_df = new_df.reset_index(drop = 1)\n",
    "    k = list(new_df['Stage'])\n",
    "    if(len(new_df) > 1):\n",
    "       new_df = new_df[:-1] \n",
    "    new_df[\"NextStage\"] = \"\"\n",
    "    for i in range(1,len(k)):\n",
    "        new_df.loc[i-1,'NextStage']= k[i]\n",
    "    my_df = my_df.append(new_df)\n",
    "    \n",
    "# Saving the dataset\n",
    "my_df.to_csv('NextStage_30.csv')"
   ]
  },
  {
   "cell_type": "markdown",
   "metadata": {},
   "source": [
    "## HMM (Hidden Markov Model) Filter\n",
    "### Method 2: \n",
    "- HMMs are engineered to handle the data which have sequential patterns in it.\n",
    "- The HMM filter revises the predictions accordingly to their uncertainty and the state transition matrix estimated from unlabeled data using the **Viterbi algorithm**.\n",
    "- HMMs are defined by hidden states, state transition probabilities, possible observations and their emission probabilities.\n",
    "\n",
    "**Steps:**\n",
    " - Train base classifier on training dataset\n",
    " - Predict labels for unlabeled dataset using trained classifier\n",
    " - Estimate HMM state transition matrix from predicted labels of unlabeled dataset\n",
    " - Estimate class probability distributions for test dataset using trained classifier\n",
    " - Predict most likely sequence of states for each session in test dataset using HMM filter"
   ]
  },
  {
   "cell_type": "code",
   "execution_count": 248,
   "metadata": {},
   "outputs": [],
   "source": [
    "# Reading dataset\n",
    "df = pd.read_csv('NextStage_30.csv')"
   ]
  },
  {
   "cell_type": "markdown",
   "metadata": {},
   "source": [
    "- Extracting stage number from column `Stage` & `NewStage`"
   ]
  },
  {
   "cell_type": "code",
   "execution_count": 249,
   "metadata": {},
   "outputs": [],
   "source": [
    "df.dropna(subset = [\"NextStage\"], inplace=True)\n",
    "df['Stage'] = df['Stage'].str.extract('(\\d+)')\n",
    "df['Stage'] = df['Stage'].astype(str).astype(int) \n",
    "df['NextStage'] = df['NextStage'].str.extract('(\\d+)')\n",
    "df['NextStage'] = df['NextStage'].astype(str).astype(int) "
   ]
  },
  {
   "cell_type": "markdown",
   "metadata": {},
   "source": [
    "- One Hot encoding for categorical variables (`Region`, `TCS_Domain`, `Client Domain`)"
   ]
  },
  {
   "cell_type": "code",
   "execution_count": 250,
   "metadata": {},
   "outputs": [],
   "source": [
    "one_hot = pd.get_dummies(df['Region'])\n",
    "df = df.drop('Region',axis = 1)\n",
    "df = df.join(one_hot)\n",
    "one_hot = pd.get_dummies(df['TCS_Domain'])\n",
    "df = df.drop('TCS_Domain',axis = 1)\n",
    "df = df.join(one_hot)\n",
    "one_hot = pd.get_dummies(df['Client_Domain'])\n",
    "df = df.drop(['Client_Domain','TimeStamp','Name'],axis = 1)\n",
    "df = df.join(one_hot)"
   ]
  },
  {
   "cell_type": "code",
   "execution_count": 251,
   "metadata": {},
   "outputs": [],
   "source": [
    "# Importing required libraries\n",
    "from os import cpu_count\n",
    "from sklearn.model_selection import cross_validate\n",
    "from hmm_filter.hmm_filter import HMMFilter"
   ]
  },
  {
   "cell_type": "markdown",
   "metadata": {},
   "source": [
    "- Spliting dataset into `train_dataset`, `unlabeled_dataset` & `test_dataset`"
   ]
  },
  {
   "cell_type": "code",
   "execution_count": 252,
   "metadata": {},
   "outputs": [],
   "source": [
    "a = int(len(df)*0.6)\n",
    "b = int(len(df)*0.3)\n",
    "\n",
    "train_dataset = df[:a].copy()\n",
    "unlabeled_dataset = df[a:a+b].copy()\n",
    "test_dataset = df[a+b:].copy()"
   ]
  },
  {
   "cell_type": "markdown",
   "metadata": {},
   "source": [
    "- Extracting Features & Labels"
   ]
  },
  {
   "cell_type": "code",
   "execution_count": 253,
   "metadata": {},
   "outputs": [
    {
     "name": "stdout",
     "output_type": "stream",
     "text": [
      "[[1.00000000e+00 3.00000000e+00 1.30829000e+05 ... 0.00000000e+00\n",
      "  0.00000000e+00 0.00000000e+00]\n",
      " [2.00000000e+00 4.00000000e+00 1.30829000e+05 ... 0.00000000e+00\n",
      "  0.00000000e+00 0.00000000e+00]\n",
      " [3.00000000e+00 5.00000000e+00 1.30829000e+05 ... 0.00000000e+00\n",
      "  0.00000000e+00 0.00000000e+00]\n",
      " ...\n",
      " [0.00000000e+00 1.00000000e+00 2.03121213e+05 ... 0.00000000e+00\n",
      "  0.00000000e+00 0.00000000e+00]\n",
      " [1.00000000e+00 2.00000000e+00 2.03121213e+05 ... 0.00000000e+00\n",
      "  0.00000000e+00 0.00000000e+00]\n",
      " [0.00000000e+00 1.00000000e+00 6.33434043e+04 ... 0.00000000e+00\n",
      "  0.00000000e+00 1.00000000e+00]]\n"
     ]
    }
   ],
   "source": [
    "# training dataset\n",
    "X_train = train_dataset.drop('NextStage',axis = 1).values\n",
    "y_train = train_dataset[\"NextStage\"].values\n",
    "\n",
    "# test dataset\n",
    "X_test = test_dataset.drop('NextStage',axis = 1).values\n",
    "y_test = test_dataset[\"NextStage\"].values\n",
    "\n",
    "# unlabeled dataset\n",
    "X_unlabeled = unlabeled_dataset.drop('NextStage',axis = 1).values\n",
    "print(X_test)"
   ]
  },
  {
   "cell_type": "markdown",
   "metadata": {},
   "source": [
    "- Train **Bagging Classifier**"
   ]
  },
  {
   "cell_type": "code",
   "execution_count": 254,
   "metadata": {},
   "outputs": [
    {
     "name": "stdout",
     "output_type": "stream",
     "text": [
      "Accuracy: 0.7962085308056872\n",
      "F1 score: 0.7880108618894737\n",
      "Recall: 0.7962085308056872\n",
      "Precision: 0.8134971218971873\n"
     ]
    }
   ],
   "source": [
    "# Instantiate bagging classifier and fit to training data\n",
    "\n",
    "from sklearn.svm import SVC\n",
    "from sklearn.ensemble import BaggingClassifier\n",
    "clf = BaggingClassifier( n_estimators=500, random_state=100).fit(X_train, y_train)\n",
    "\n",
    "test_dataset[\"prediction_rf\"] = clf.predict(X_test)\n",
    "\n",
    "def print_metrics(x,y):\n",
    "    print('Accuracy:', accuracy_score(x, y))\n",
    "    print('F1 score:', f1_score(x, y, average='weighted'))\n",
    "    print('Recall:', recall_score(x, y, average='weighted'))\n",
    "    print('Precision:', precision_score(x, y, average='weighted'))\n",
    "# Evaluate accuracy of predictions\n",
    "print_metrics(test_dataset['NextStage'],test_dataset['prediction_rf'])"
   ]
  },
  {
   "cell_type": "markdown",
   "metadata": {},
   "source": [
    "- Predict labels for unlabeled dataset"
   ]
  },
  {
   "cell_type": "code",
   "execution_count": 255,
   "metadata": {},
   "outputs": [],
   "source": [
    "# predict classes for unabeled dataset\n",
    "unlabeled_dataset[\"prediction_rf\"] = clf.predict(X_unlabeled)"
   ]
  },
  {
   "cell_type": "markdown",
   "metadata": {},
   "source": [
    "- Estimate HMM state transition matrix"
   ]
  },
  {
   "cell_type": "code",
   "execution_count": 256,
   "metadata": {},
   "outputs": [],
   "source": [
    "# train HMM filter by estimating the state transition matrix\n",
    "hmmfilter = HMMFilter()\n",
    "hmmfilter.fit(unlabeled_dataset, session_column=\"ID\", prediction_column=\"prediction_rf\")"
   ]
  },
  {
   "cell_type": "markdown",
   "metadata": {},
   "source": [
    "- Estimate class probability distributions"
   ]
  },
  {
   "cell_type": "code",
   "execution_count": 257,
   "metadata": {},
   "outputs": [
    {
     "data": {
      "text/html": [
       "<div>\n",
       "<style scoped>\n",
       "    .dataframe tbody tr th:only-of-type {\n",
       "        vertical-align: middle;\n",
       "    }\n",
       "\n",
       "    .dataframe tbody tr th {\n",
       "        vertical-align: top;\n",
       "    }\n",
       "\n",
       "    .dataframe thead th {\n",
       "        text-align: right;\n",
       "    }\n",
       "</style>\n",
       "<table border=\"1\" class=\"dataframe\">\n",
       "  <thead>\n",
       "    <tr style=\"text-align: right;\">\n",
       "      <th></th>\n",
       "      <th>Unnamed: 0</th>\n",
       "      <th>Stage</th>\n",
       "      <th>Client_Revenue</th>\n",
       "      <th>Existing_Customer</th>\n",
       "      <th>TCS_Revenue</th>\n",
       "      <th>ID</th>\n",
       "      <th>Status</th>\n",
       "      <th>Recency</th>\n",
       "      <th>Frequency</th>\n",
       "      <th>NextStage</th>\n",
       "      <th>...</th>\n",
       "      <th>Healthcare</th>\n",
       "      <th>Hi-Tech</th>\n",
       "      <th>Manufacturing</th>\n",
       "      <th>Media</th>\n",
       "      <th>Others</th>\n",
       "      <th>Retail &amp; Distribution</th>\n",
       "      <th>Telecom</th>\n",
       "      <th>Travel and Hospitality</th>\n",
       "      <th>prediction_rf</th>\n",
       "      <th>probabs</th>\n",
       "    </tr>\n",
       "  </thead>\n",
       "  <tbody>\n",
       "    <tr>\n",
       "      <th>1914</th>\n",
       "      <td>1</td>\n",
       "      <td>3</td>\n",
       "      <td>130829.000000</td>\n",
       "      <td>1</td>\n",
       "      <td>11558.260454</td>\n",
       "      <td>1018</td>\n",
       "      <td>0</td>\n",
       "      <td>391</td>\n",
       "      <td>5</td>\n",
       "      <td>4</td>\n",
       "      <td>...</td>\n",
       "      <td>0</td>\n",
       "      <td>0</td>\n",
       "      <td>0</td>\n",
       "      <td>0</td>\n",
       "      <td>0</td>\n",
       "      <td>0</td>\n",
       "      <td>0</td>\n",
       "      <td>0</td>\n",
       "      <td>4</td>\n",
       "      <td>{4: 0.818, 5: 0.134, 6: 0.042, 7: 0.002, 8: 0....</td>\n",
       "    </tr>\n",
       "    <tr>\n",
       "      <th>1915</th>\n",
       "      <td>2</td>\n",
       "      <td>4</td>\n",
       "      <td>130829.000000</td>\n",
       "      <td>1</td>\n",
       "      <td>11558.260454</td>\n",
       "      <td>1018</td>\n",
       "      <td>0</td>\n",
       "      <td>242</td>\n",
       "      <td>5</td>\n",
       "      <td>5</td>\n",
       "      <td>...</td>\n",
       "      <td>0</td>\n",
       "      <td>0</td>\n",
       "      <td>0</td>\n",
       "      <td>0</td>\n",
       "      <td>0</td>\n",
       "      <td>0</td>\n",
       "      <td>0</td>\n",
       "      <td>0</td>\n",
       "      <td>5</td>\n",
       "      <td>{5: 0.872, 6: 0.072, 7: 0.044, 8: 0.008, 9: 0....</td>\n",
       "    </tr>\n",
       "    <tr>\n",
       "      <th>1916</th>\n",
       "      <td>3</td>\n",
       "      <td>5</td>\n",
       "      <td>130829.000000</td>\n",
       "      <td>1</td>\n",
       "      <td>11558.260454</td>\n",
       "      <td>1018</td>\n",
       "      <td>0</td>\n",
       "      <td>28</td>\n",
       "      <td>5</td>\n",
       "      <td>10</td>\n",
       "      <td>...</td>\n",
       "      <td>0</td>\n",
       "      <td>0</td>\n",
       "      <td>0</td>\n",
       "      <td>0</td>\n",
       "      <td>0</td>\n",
       "      <td>0</td>\n",
       "      <td>0</td>\n",
       "      <td>0</td>\n",
       "      <td>6</td>\n",
       "      <td>{6: 0.476, 7: 0.1, 8: 0.02, 10: 0.274, 11: 0.13}</td>\n",
       "    </tr>\n",
       "    <tr>\n",
       "      <th>1917</th>\n",
       "      <td>0</td>\n",
       "      <td>1</td>\n",
       "      <td>190318.552048</td>\n",
       "      <td>0</td>\n",
       "      <td>22958.497369</td>\n",
       "      <td>1019</td>\n",
       "      <td>1</td>\n",
       "      <td>44</td>\n",
       "      <td>2</td>\n",
       "      <td>9</td>\n",
       "      <td>...</td>\n",
       "      <td>0</td>\n",
       "      <td>0</td>\n",
       "      <td>0</td>\n",
       "      <td>0</td>\n",
       "      <td>0</td>\n",
       "      <td>0</td>\n",
       "      <td>0</td>\n",
       "      <td>0</td>\n",
       "      <td>9</td>\n",
       "      <td>{9: 1.0}</td>\n",
       "    </tr>\n",
       "    <tr>\n",
       "      <th>1918</th>\n",
       "      <td>0</td>\n",
       "      <td>1</td>\n",
       "      <td>220614.400247</td>\n",
       "      <td>1</td>\n",
       "      <td>19870.602832</td>\n",
       "      <td>1020</td>\n",
       "      <td>1</td>\n",
       "      <td>47</td>\n",
       "      <td>2</td>\n",
       "      <td>9</td>\n",
       "      <td>...</td>\n",
       "      <td>0</td>\n",
       "      <td>0</td>\n",
       "      <td>1</td>\n",
       "      <td>0</td>\n",
       "      <td>0</td>\n",
       "      <td>0</td>\n",
       "      <td>0</td>\n",
       "      <td>0</td>\n",
       "      <td>9</td>\n",
       "      <td>{9: 1.0}</td>\n",
       "    </tr>\n",
       "  </tbody>\n",
       "</table>\n",
       "<p>5 rows × 41 columns</p>\n",
       "</div>"
      ],
      "text/plain": [
       "      Unnamed: 0  Stage  Client_Revenue  Existing_Customer   TCS_Revenue  \\\n",
       "1914           1      3   130829.000000                  1  11558.260454   \n",
       "1915           2      4   130829.000000                  1  11558.260454   \n",
       "1916           3      5   130829.000000                  1  11558.260454   \n",
       "1917           0      1   190318.552048                  0  22958.497369   \n",
       "1918           0      1   220614.400247                  1  19870.602832   \n",
       "\n",
       "        ID  Status  Recency  Frequency  NextStage  ...  Healthcare  Hi-Tech  \\\n",
       "1914  1018       0      391          5          4  ...           0        0   \n",
       "1915  1018       0      242          5          5  ...           0        0   \n",
       "1916  1018       0       28          5         10  ...           0        0   \n",
       "1917  1019       1       44          2          9  ...           0        0   \n",
       "1918  1020       1       47          2          9  ...           0        0   \n",
       "\n",
       "      Manufacturing  Media  Others  Retail & Distribution  Telecom  \\\n",
       "1914              0      0       0                      0        0   \n",
       "1915              0      0       0                      0        0   \n",
       "1916              0      0       0                      0        0   \n",
       "1917              0      0       0                      0        0   \n",
       "1918              1      0       0                      0        0   \n",
       "\n",
       "      Travel and Hospitality  prediction_rf  \\\n",
       "1914                       0              4   \n",
       "1915                       0              5   \n",
       "1916                       0              6   \n",
       "1917                       0              9   \n",
       "1918                       0              9   \n",
       "\n",
       "                                                probabs  \n",
       "1914  {4: 0.818, 5: 0.134, 6: 0.042, 7: 0.002, 8: 0....  \n",
       "1915  {5: 0.872, 6: 0.072, 7: 0.044, 8: 0.008, 9: 0....  \n",
       "1916   {6: 0.476, 7: 0.1, 8: 0.02, 10: 0.274, 11: 0.13}  \n",
       "1917                                           {9: 1.0}  \n",
       "1918                                           {9: 1.0}  \n",
       "\n",
       "[5 rows x 41 columns]"
      ]
     },
     "execution_count": 257,
     "metadata": {},
     "output_type": "execute_result"
    }
   ],
   "source": [
    "d = pd.DataFrame.from_records(clf.predict_proba(X_test), columns=clf.classes_).to_dict(orient=\"records\")\n",
    "test_dataset[\"probabs\"] = [{ k:v for k,v in r.items() if v > 0} for r in d ]\n",
    "test_dataset.head()"
   ]
  },
  {
   "cell_type": "markdown",
   "metadata": {},
   "source": [
    "- Predict most likely sequence of states using HMM filter"
   ]
  },
  {
   "cell_type": "code",
   "execution_count": 258,
   "metadata": {},
   "outputs": [],
   "source": [
    "df = hmmfilter.predict(test_dataset, session_column='ID', probabs_column=\"probabs\", prediction_column='prediction')"
   ]
  },
  {
   "cell_type": "markdown",
   "metadata": {},
   "source": [
    "\n",
    "- Evaluating performance of our model"
   ]
  },
  {
   "cell_type": "code",
   "execution_count": 259,
   "metadata": {},
   "outputs": [
    {
     "name": "stdout",
     "output_type": "stream",
     "text": [
      "Accuracy: 0.8293838862559242\n",
      "F1 score: 0.8328088620141683\n",
      "Recall: 0.8293838862559242\n",
      "Precision: 0.8508076683097592\n"
     ]
    }
   ],
   "source": [
    "print_metrics(df['prediction'],y_test)"
   ]
  },
  {
   "cell_type": "code",
   "execution_count": null,
   "metadata": {},
   "outputs": [],
   "source": []
  }
 ],
 "metadata": {
  "accelerator": "GPU",
  "colab": {
   "collapsed_sections": [],
   "name": "Algo",
   "provenance": []
  },
  "kernelspec": {
   "display_name": "Python 3",
   "language": "python",
   "name": "python3"
  },
  "language_info": {
   "codemirror_mode": {
    "name": "ipython",
    "version": 3
   },
   "file_extension": ".py",
   "mimetype": "text/x-python",
   "name": "python",
   "nbconvert_exporter": "python",
   "pygments_lexer": "ipython3",
   "version": "3.7.6"
  }
 },
 "nbformat": 4,
 "nbformat_minor": 1
}
